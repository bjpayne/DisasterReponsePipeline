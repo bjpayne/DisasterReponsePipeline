{
 "cells": [
  {
   "cell_type": "markdown",
   "metadata": {},
   "source": [
    "# ML Pipeline Preparation\n",
    "Follow the instructions below to help you create your ML pipeline.\n",
    "### 1. Import libraries and load data from database.\n",
    "- Import Python libraries\n",
    "- Load dataset from database with [`read_sql_table`](https://pandas.pydata.org/pandas-docs/stable/generated/pandas.read_sql_table.html)\n",
    "- Define feature and target variables X and Y"
   ]
  },
  {
   "cell_type": "code",
   "execution_count": 1,
   "metadata": {},
   "outputs": [],
   "source": [
    "# import libraries\n",
    "import pandas as pd\n",
    "import numpy as np\n",
    "import re\n",
    "import pickle\n",
    "import nltk\n",
    "import sqlite3\n",
    "\n",
    "from nltk.corpus import stopwords\n",
    "from nltk.tokenize import word_tokenize\n",
    "from nltk.stem.porter import PorterStemmer\n",
    "from nltk.stem import WordNetLemmatizer\n",
    "\n",
    "from sklearn.pipeline import Pipeline\n",
    "from sklearn.feature_extraction.text import CountVectorizer, TfidfTransformer\n",
    "from sklearn.model_selection import train_test_split, GridSearchCV\n",
    "from sklearn.ensemble import RandomForestClassifier\n",
    "from sklearn.multioutput import MultiOutputClassifier\n",
    "from sklearn.metrics import classification_report"
   ]
  },
  {
   "cell_type": "code",
   "execution_count": 2,
   "metadata": {},
   "outputs": [
    {
     "name": "stderr",
     "output_type": "stream",
     "text": [
      "[nltk_data] Downloading package punkt to\n",
      "[nltk_data]     C:\\Users\\bjpay\\AppData\\Roaming\\nltk_data...\n",
      "[nltk_data]   Package punkt is already up-to-date!\n",
      "[nltk_data] Downloading package wordnet to\n",
      "[nltk_data]     C:\\Users\\bjpay\\AppData\\Roaming\\nltk_data...\n",
      "[nltk_data]   Package wordnet is already up-to-date!\n",
      "[nltk_data] Downloading package stopwords to\n",
      "[nltk_data]     C:\\Users\\bjpay\\AppData\\Roaming\\nltk_data...\n",
      "[nltk_data]   Package stopwords is already up-to-date!\n",
      "[nltk_data] Downloading package averaged_perceptron_tagger to\n",
      "[nltk_data]     C:\\Users\\bjpay\\AppData\\Roaming\\nltk_data...\n",
      "[nltk_data]   Package averaged_perceptron_tagger is already up-to-\n",
      "[nltk_data]       date!\n"
     ]
    },
    {
     "data": {
      "text/plain": [
       "True"
      ]
     },
     "execution_count": 2,
     "metadata": {},
     "output_type": "execute_result"
    }
   ],
   "source": [
    "# Download nltk packages\n",
    "nltk.download('punkt')\n",
    "nltk.download('wordnet')\n",
    "nltk.download('stopwords')\n",
    "nltk.download('averaged_perceptron_tagger')"
   ]
  },
  {
   "cell_type": "code",
   "execution_count": 3,
   "metadata": {},
   "outputs": [
    {
     "data": {
      "text/html": [
       "<div>\n",
       "<style scoped>\n",
       "    .dataframe tbody tr th:only-of-type {\n",
       "        vertical-align: middle;\n",
       "    }\n",
       "\n",
       "    .dataframe tbody tr th {\n",
       "        vertical-align: top;\n",
       "    }\n",
       "\n",
       "    .dataframe thead th {\n",
       "        text-align: right;\n",
       "    }\n",
       "</style>\n",
       "<table border=\"1\" class=\"dataframe\">\n",
       "  <thead>\n",
       "    <tr style=\"text-align: right;\">\n",
       "      <th></th>\n",
       "      <th>index</th>\n",
       "      <th>id</th>\n",
       "      <th>message</th>\n",
       "      <th>original</th>\n",
       "      <th>genre</th>\n",
       "      <th>related</th>\n",
       "      <th>request</th>\n",
       "      <th>offer</th>\n",
       "      <th>aid_related</th>\n",
       "      <th>medical_help</th>\n",
       "      <th>...</th>\n",
       "      <th>aid_centers</th>\n",
       "      <th>other_infrastructure</th>\n",
       "      <th>weather_related</th>\n",
       "      <th>floods</th>\n",
       "      <th>storm</th>\n",
       "      <th>fire</th>\n",
       "      <th>earthquake</th>\n",
       "      <th>cold</th>\n",
       "      <th>other_weather</th>\n",
       "      <th>direct_report</th>\n",
       "    </tr>\n",
       "  </thead>\n",
       "  <tbody>\n",
       "    <tr>\n",
       "      <th>0</th>\n",
       "      <td>0</td>\n",
       "      <td>1</td>\n",
       "      <td>Weather update - a cold front from Cuba that c...</td>\n",
       "      <td>Un front froid se retrouve sur Cuba ce matin. ...</td>\n",
       "      <td>direct</td>\n",
       "      <td>1</td>\n",
       "      <td>0</td>\n",
       "      <td>0</td>\n",
       "      <td>0</td>\n",
       "      <td>0</td>\n",
       "      <td>...</td>\n",
       "      <td>0</td>\n",
       "      <td>0</td>\n",
       "      <td>0</td>\n",
       "      <td>0</td>\n",
       "      <td>0</td>\n",
       "      <td>0</td>\n",
       "      <td>0</td>\n",
       "      <td>0</td>\n",
       "      <td>0</td>\n",
       "      <td>0</td>\n",
       "    </tr>\n",
       "    <tr>\n",
       "      <th>1</th>\n",
       "      <td>1</td>\n",
       "      <td>7</td>\n",
       "      <td>Is the Hurricane over or is it not over</td>\n",
       "      <td>Cyclone nan fini osinon li pa fini</td>\n",
       "      <td>direct</td>\n",
       "      <td>1</td>\n",
       "      <td>0</td>\n",
       "      <td>0</td>\n",
       "      <td>1</td>\n",
       "      <td>0</td>\n",
       "      <td>...</td>\n",
       "      <td>0</td>\n",
       "      <td>0</td>\n",
       "      <td>1</td>\n",
       "      <td>0</td>\n",
       "      <td>1</td>\n",
       "      <td>0</td>\n",
       "      <td>0</td>\n",
       "      <td>0</td>\n",
       "      <td>0</td>\n",
       "      <td>0</td>\n",
       "    </tr>\n",
       "    <tr>\n",
       "      <th>2</th>\n",
       "      <td>2</td>\n",
       "      <td>8</td>\n",
       "      <td>Looking for someone but no name</td>\n",
       "      <td>Patnm, di Maryani relem pou li banm nouvel li ...</td>\n",
       "      <td>direct</td>\n",
       "      <td>1</td>\n",
       "      <td>0</td>\n",
       "      <td>0</td>\n",
       "      <td>0</td>\n",
       "      <td>0</td>\n",
       "      <td>...</td>\n",
       "      <td>0</td>\n",
       "      <td>0</td>\n",
       "      <td>0</td>\n",
       "      <td>0</td>\n",
       "      <td>0</td>\n",
       "      <td>0</td>\n",
       "      <td>0</td>\n",
       "      <td>0</td>\n",
       "      <td>0</td>\n",
       "      <td>0</td>\n",
       "    </tr>\n",
       "    <tr>\n",
       "      <th>3</th>\n",
       "      <td>3</td>\n",
       "      <td>9</td>\n",
       "      <td>UN reports Leogane 80-90 destroyed. Only Hospi...</td>\n",
       "      <td>UN reports Leogane 80-90 destroyed. Only Hospi...</td>\n",
       "      <td>direct</td>\n",
       "      <td>1</td>\n",
       "      <td>1</td>\n",
       "      <td>0</td>\n",
       "      <td>1</td>\n",
       "      <td>0</td>\n",
       "      <td>...</td>\n",
       "      <td>0</td>\n",
       "      <td>0</td>\n",
       "      <td>0</td>\n",
       "      <td>0</td>\n",
       "      <td>0</td>\n",
       "      <td>0</td>\n",
       "      <td>0</td>\n",
       "      <td>0</td>\n",
       "      <td>0</td>\n",
       "      <td>0</td>\n",
       "    </tr>\n",
       "    <tr>\n",
       "      <th>4</th>\n",
       "      <td>4</td>\n",
       "      <td>12</td>\n",
       "      <td>says: west side of Haiti, rest of the country ...</td>\n",
       "      <td>facade ouest d Haiti et le reste du pays aujou...</td>\n",
       "      <td>direct</td>\n",
       "      <td>1</td>\n",
       "      <td>0</td>\n",
       "      <td>0</td>\n",
       "      <td>0</td>\n",
       "      <td>0</td>\n",
       "      <td>...</td>\n",
       "      <td>0</td>\n",
       "      <td>0</td>\n",
       "      <td>0</td>\n",
       "      <td>0</td>\n",
       "      <td>0</td>\n",
       "      <td>0</td>\n",
       "      <td>0</td>\n",
       "      <td>0</td>\n",
       "      <td>0</td>\n",
       "      <td>0</td>\n",
       "    </tr>\n",
       "  </tbody>\n",
       "</table>\n",
       "<p>5 rows × 41 columns</p>\n",
       "</div>"
      ],
      "text/plain": [
       "   index  id                                            message  \\\n",
       "0      0   1  Weather update - a cold front from Cuba that c...   \n",
       "1      1   7            Is the Hurricane over or is it not over   \n",
       "2      2   8                    Looking for someone but no name   \n",
       "3      3   9  UN reports Leogane 80-90 destroyed. Only Hospi...   \n",
       "4      4  12  says: west side of Haiti, rest of the country ...   \n",
       "\n",
       "                                            original   genre  related  \\\n",
       "0  Un front froid se retrouve sur Cuba ce matin. ...  direct        1   \n",
       "1                 Cyclone nan fini osinon li pa fini  direct        1   \n",
       "2  Patnm, di Maryani relem pou li banm nouvel li ...  direct        1   \n",
       "3  UN reports Leogane 80-90 destroyed. Only Hospi...  direct        1   \n",
       "4  facade ouest d Haiti et le reste du pays aujou...  direct        1   \n",
       "\n",
       "   request  offer  aid_related  medical_help  ...  aid_centers  \\\n",
       "0        0      0            0             0  ...            0   \n",
       "1        0      0            1             0  ...            0   \n",
       "2        0      0            0             0  ...            0   \n",
       "3        1      0            1             0  ...            0   \n",
       "4        0      0            0             0  ...            0   \n",
       "\n",
       "   other_infrastructure  weather_related  floods  storm  fire  earthquake  \\\n",
       "0                     0                0       0      0     0           0   \n",
       "1                     0                1       0      1     0           0   \n",
       "2                     0                0       0      0     0           0   \n",
       "3                     0                0       0      0     0           0   \n",
       "4                     0                0       0      0     0           0   \n",
       "\n",
       "   cold  other_weather  direct_report  \n",
       "0     0              0              0  \n",
       "1     0              0              0  \n",
       "2     0              0              0  \n",
       "3     0              0              0  \n",
       "4     0              0              0  \n",
       "\n",
       "[5 rows x 41 columns]"
      ]
     },
     "execution_count": 3,
     "metadata": {},
     "output_type": "execute_result"
    }
   ],
   "source": [
    "# load data from database\n",
    "conn = sqlite3.connect('data/DisasterResponse.sqlite')\n",
    "df = pd.read_sql('SELECT * FROM categorized_messages', conn)\n",
    "\n",
    "df.head()"
   ]
  },
  {
   "cell_type": "code",
   "execution_count": 4,
   "metadata": {},
   "outputs": [],
   "source": [
    "X = df['message']\n",
    "y = df.drop(['index', 'id', 'message', 'original', 'genre'], axis=1)"
   ]
  },
  {
   "cell_type": "code",
   "execution_count": 5,
   "metadata": {},
   "outputs": [
    {
     "data": {
      "text/plain": [
       "0    Weather update - a cold front from Cuba that c...\n",
       "1              Is the Hurricane over or is it not over\n",
       "2                      Looking for someone but no name\n",
       "3    UN reports Leogane 80-90 destroyed. Only Hospi...\n",
       "4    says: west side of Haiti, rest of the country ...\n",
       "Name: message, dtype: object"
      ]
     },
     "execution_count": 5,
     "metadata": {},
     "output_type": "execute_result"
    }
   ],
   "source": [
    "X.head()"
   ]
  },
  {
   "cell_type": "code",
   "execution_count": 6,
   "metadata": {},
   "outputs": [
    {
     "data": {
      "text/html": [
       "<div>\n",
       "<style scoped>\n",
       "    .dataframe tbody tr th:only-of-type {\n",
       "        vertical-align: middle;\n",
       "    }\n",
       "\n",
       "    .dataframe tbody tr th {\n",
       "        vertical-align: top;\n",
       "    }\n",
       "\n",
       "    .dataframe thead th {\n",
       "        text-align: right;\n",
       "    }\n",
       "</style>\n",
       "<table border=\"1\" class=\"dataframe\">\n",
       "  <thead>\n",
       "    <tr style=\"text-align: right;\">\n",
       "      <th></th>\n",
       "      <th>related</th>\n",
       "      <th>request</th>\n",
       "      <th>offer</th>\n",
       "      <th>aid_related</th>\n",
       "      <th>medical_help</th>\n",
       "      <th>medical_products</th>\n",
       "      <th>search_and_rescue</th>\n",
       "      <th>security</th>\n",
       "      <th>military</th>\n",
       "      <th>child_alone</th>\n",
       "      <th>...</th>\n",
       "      <th>aid_centers</th>\n",
       "      <th>other_infrastructure</th>\n",
       "      <th>weather_related</th>\n",
       "      <th>floods</th>\n",
       "      <th>storm</th>\n",
       "      <th>fire</th>\n",
       "      <th>earthquake</th>\n",
       "      <th>cold</th>\n",
       "      <th>other_weather</th>\n",
       "      <th>direct_report</th>\n",
       "    </tr>\n",
       "  </thead>\n",
       "  <tbody>\n",
       "    <tr>\n",
       "      <th>0</th>\n",
       "      <td>1</td>\n",
       "      <td>0</td>\n",
       "      <td>0</td>\n",
       "      <td>0</td>\n",
       "      <td>0</td>\n",
       "      <td>0</td>\n",
       "      <td>0</td>\n",
       "      <td>0</td>\n",
       "      <td>0</td>\n",
       "      <td>0</td>\n",
       "      <td>...</td>\n",
       "      <td>0</td>\n",
       "      <td>0</td>\n",
       "      <td>0</td>\n",
       "      <td>0</td>\n",
       "      <td>0</td>\n",
       "      <td>0</td>\n",
       "      <td>0</td>\n",
       "      <td>0</td>\n",
       "      <td>0</td>\n",
       "      <td>0</td>\n",
       "    </tr>\n",
       "    <tr>\n",
       "      <th>1</th>\n",
       "      <td>1</td>\n",
       "      <td>0</td>\n",
       "      <td>0</td>\n",
       "      <td>1</td>\n",
       "      <td>0</td>\n",
       "      <td>0</td>\n",
       "      <td>0</td>\n",
       "      <td>0</td>\n",
       "      <td>0</td>\n",
       "      <td>0</td>\n",
       "      <td>...</td>\n",
       "      <td>0</td>\n",
       "      <td>0</td>\n",
       "      <td>1</td>\n",
       "      <td>0</td>\n",
       "      <td>1</td>\n",
       "      <td>0</td>\n",
       "      <td>0</td>\n",
       "      <td>0</td>\n",
       "      <td>0</td>\n",
       "      <td>0</td>\n",
       "    </tr>\n",
       "    <tr>\n",
       "      <th>2</th>\n",
       "      <td>1</td>\n",
       "      <td>0</td>\n",
       "      <td>0</td>\n",
       "      <td>0</td>\n",
       "      <td>0</td>\n",
       "      <td>0</td>\n",
       "      <td>0</td>\n",
       "      <td>0</td>\n",
       "      <td>0</td>\n",
       "      <td>0</td>\n",
       "      <td>...</td>\n",
       "      <td>0</td>\n",
       "      <td>0</td>\n",
       "      <td>0</td>\n",
       "      <td>0</td>\n",
       "      <td>0</td>\n",
       "      <td>0</td>\n",
       "      <td>0</td>\n",
       "      <td>0</td>\n",
       "      <td>0</td>\n",
       "      <td>0</td>\n",
       "    </tr>\n",
       "    <tr>\n",
       "      <th>3</th>\n",
       "      <td>1</td>\n",
       "      <td>1</td>\n",
       "      <td>0</td>\n",
       "      <td>1</td>\n",
       "      <td>0</td>\n",
       "      <td>1</td>\n",
       "      <td>0</td>\n",
       "      <td>0</td>\n",
       "      <td>0</td>\n",
       "      <td>0</td>\n",
       "      <td>...</td>\n",
       "      <td>0</td>\n",
       "      <td>0</td>\n",
       "      <td>0</td>\n",
       "      <td>0</td>\n",
       "      <td>0</td>\n",
       "      <td>0</td>\n",
       "      <td>0</td>\n",
       "      <td>0</td>\n",
       "      <td>0</td>\n",
       "      <td>0</td>\n",
       "    </tr>\n",
       "    <tr>\n",
       "      <th>4</th>\n",
       "      <td>1</td>\n",
       "      <td>0</td>\n",
       "      <td>0</td>\n",
       "      <td>0</td>\n",
       "      <td>0</td>\n",
       "      <td>0</td>\n",
       "      <td>0</td>\n",
       "      <td>0</td>\n",
       "      <td>0</td>\n",
       "      <td>0</td>\n",
       "      <td>...</td>\n",
       "      <td>0</td>\n",
       "      <td>0</td>\n",
       "      <td>0</td>\n",
       "      <td>0</td>\n",
       "      <td>0</td>\n",
       "      <td>0</td>\n",
       "      <td>0</td>\n",
       "      <td>0</td>\n",
       "      <td>0</td>\n",
       "      <td>0</td>\n",
       "    </tr>\n",
       "  </tbody>\n",
       "</table>\n",
       "<p>5 rows × 36 columns</p>\n",
       "</div>"
      ],
      "text/plain": [
       "   related  request  offer  aid_related  medical_help  medical_products  \\\n",
       "0        1        0      0            0             0                 0   \n",
       "1        1        0      0            1             0                 0   \n",
       "2        1        0      0            0             0                 0   \n",
       "3        1        1      0            1             0                 1   \n",
       "4        1        0      0            0             0                 0   \n",
       "\n",
       "   search_and_rescue  security  military  child_alone  ...  aid_centers  \\\n",
       "0                  0         0         0            0  ...            0   \n",
       "1                  0         0         0            0  ...            0   \n",
       "2                  0         0         0            0  ...            0   \n",
       "3                  0         0         0            0  ...            0   \n",
       "4                  0         0         0            0  ...            0   \n",
       "\n",
       "   other_infrastructure  weather_related  floods  storm  fire  earthquake  \\\n",
       "0                     0                0       0      0     0           0   \n",
       "1                     0                1       0      1     0           0   \n",
       "2                     0                0       0      0     0           0   \n",
       "3                     0                0       0      0     0           0   \n",
       "4                     0                0       0      0     0           0   \n",
       "\n",
       "   cold  other_weather  direct_report  \n",
       "0     0              0              0  \n",
       "1     0              0              0  \n",
       "2     0              0              0  \n",
       "3     0              0              0  \n",
       "4     0              0              0  \n",
       "\n",
       "[5 rows x 36 columns]"
      ]
     },
     "execution_count": 6,
     "metadata": {},
     "output_type": "execute_result"
    }
   ],
   "source": [
    "y.head()"
   ]
  },
  {
   "cell_type": "code",
   "execution_count": 7,
   "metadata": {},
   "outputs": [
    {
     "name": "stdout",
     "output_type": "stream",
     "text": [
      "(26216,)\n",
      "(26216, 36)\n"
     ]
    }
   ],
   "source": [
    "print(X.shape)\n",
    "print(y.shape)"
   ]
  },
  {
   "cell_type": "markdown",
   "metadata": {},
   "source": [
    "### 2. Write a tokenization function to process your text data"
   ]
  },
  {
   "cell_type": "code",
   "execution_count": 10,
   "metadata": {},
   "outputs": [],
   "source": [
    "def tokenize(text):\n",
    "    # Normalize text\n",
    "    text = text.strip()\n",
    "    text = re.sub(r\"[^a-zA-Z0-9]\", \" \", text.lower())\n",
    "    text = re.sub(r\"http[s]?://(?:[a-zA-Z]|[0-9]|[$-_@.&+]|[!*\\(\\),]|(?:%[0-9a-fA-F][0-9a-fA-F]))+\", '', text)\n",
    "\n",
    "    # Fetch tokens\n",
    "    tokens = []\n",
    "\n",
    "    english_stopwords = stopwords.words(\"english\")\n",
    "\n",
    "    lemmatizer = WordNetLemmatizer()\n",
    "\n",
    "    for token in word_tokenize(text):\n",
    "        if token not in english_stopwords:\n",
    "            lemmatized = lemmatizer.lemmatize(token)\n",
    "\n",
    "            tokens.append(lemmatized)\n",
    "\n",
    "    return tokens"
   ]
  },
  {
   "cell_type": "code",
   "execution_count": 11,
   "metadata": {},
   "outputs": [
    {
     "name": "stdout",
     "output_type": "stream",
     "text": [
      "['nothing', 'eat', 'water', 'starving', 'thirsty']\n",
      "['want', 'know', 'carrefour', 'need', 'help', 'starving', 'death']\n",
      "['radical', 'shift', 'thinking', 'came', 'result', 'meeting', 'recognizing', 'hiv', 'aid', 'core', 'humanitarian', 'crisis', 'identifying', 'crisis', 'function', 'hiv', 'aid', 'pandemic']\n"
     ]
    }
   ],
   "source": [
    "# Check output\n",
    "print(tokenize(X[10]))\n",
    "print(tokenize(X[34]))\n",
    "print(tokenize(X[26215]))"
   ]
  },
  {
   "cell_type": "markdown",
   "metadata": {},
   "source": [
    "### 3. Build a machine learning pipeline\n",
    "This machine pipeline should take in the `message` column as input and output classification results on the other 36 categories in the dataset. You may find the [MultiOutputClassifier](http://scikit-learn.org/stable/modules/generated/sklearn.multioutput.MultiOutputClassifier.html) helpful for predicting multiple target variables."
   ]
  },
  {
   "cell_type": "code",
   "execution_count": 12,
   "metadata": {},
   "outputs": [],
   "source": [
    "pipeline = Pipeline([\n",
    "    ('vect', CountVectorizer(tokenizer=tokenize)),\n",
    "    ('tfidf', TfidfTransformer()),\n",
    "    ('clf', MultiOutputClassifier(RandomForestClassifier(n_jobs=-1)))\n",
    "])"
   ]
  },
  {
   "cell_type": "markdown",
   "metadata": {},
   "source": [
    "### 4. Train pipeline\n",
    "- Split data into train and test sets\n",
    "- Train pipeline"
   ]
  },
  {
   "cell_type": "code",
   "execution_count": 13,
   "metadata": {
    "pycharm": {
     "is_executing": true
    }
   },
   "outputs": [],
   "source": [
    "X_train, X_test, y_train, y_test = train_test_split(X, y)\n",
    "\n",
    "# train classifier \n",
    "pipeline.fit(X_train, y_train) \n",
    "\n",
    "# predict on test data \n",
    "y_pred = pipeline.predict(X_test)"
   ]
  },
  {
   "cell_type": "markdown",
   "metadata": {},
   "source": [
    "### 5. Test your model\n",
    "Report the f1 score, precision and recall for each output category of the dataset. You can do this by iterating through the columns and calling sklearn's `classification_report` on each."
   ]
  },
  {
   "cell_type": "code",
   "execution_count": 14,
   "metadata": {
    "pycharm": {
     "is_executing": true
    }
   },
   "outputs": [
    {
     "name": "stdout",
     "output_type": "stream",
     "text": [
      "(6554, 36)\n",
      "(6554, 36)\n"
     ]
    }
   ],
   "source": [
    "print(y_test.shape)\n",
    "print(y_pred.shape)"
   ]
  },
  {
   "cell_type": "code",
   "execution_count": 15,
   "metadata": {
    "pycharm": {
     "is_executing": true
    }
   },
   "outputs": [
    {
     "data": {
      "text/plain": [
       "array(['related', 'request', 'offer', 'aid_related', 'medical_help',\n",
       "       'medical_products', 'search_and_rescue', 'security', 'military',\n",
       "       'child_alone', 'water', 'food', 'shelter', 'clothing', 'money',\n",
       "       'missing_people', 'refugees', 'death', 'other_aid',\n",
       "       'infrastructure_related', 'transport', 'buildings', 'electricity',\n",
       "       'tools', 'hospitals', 'shops', 'aid_centers',\n",
       "       'other_infrastructure', 'weather_related', 'floods', 'storm',\n",
       "       'fire', 'earthquake', 'cold', 'other_weather', 'direct_report'],\n",
       "      dtype=object)"
      ]
     },
     "execution_count": 15,
     "metadata": {},
     "output_type": "execute_result"
    }
   ],
   "source": [
    "y.columns.values"
   ]
  },
  {
   "cell_type": "code",
   "execution_count": 16,
   "metadata": {
    "pycharm": {
     "is_executing": true
    }
   },
   "outputs": [
    {
     "name": "stdout",
     "output_type": "stream",
     "text": [
      "                        precision    recall  f1-score   support\n",
      "\n",
      "               related       0.84      0.95      0.89      5043\n",
      "               request       0.84      0.51      0.64      1088\n",
      "                 offer       0.00      0.00      0.00        29\n",
      "           aid_related       0.78      0.69      0.73      2762\n",
      "          medical_help       0.77      0.08      0.14       512\n",
      "      medical_products       0.80      0.10      0.18       335\n",
      "     search_and_rescue       0.75      0.02      0.03       171\n",
      "              security       0.00      0.00      0.00       134\n",
      "              military       0.84      0.07      0.12       237\n",
      "           child_alone       0.00      0.00      0.00         0\n",
      "                 water       0.86      0.36      0.51       423\n",
      "                  food       0.86      0.59      0.70       744\n",
      "               shelter       0.85      0.37      0.51       593\n",
      "              clothing       0.77      0.09      0.17       108\n",
      "                 money       0.80      0.03      0.05       143\n",
      "        missing_people       0.00      0.00      0.00        70\n",
      "              refugees       0.47      0.03      0.06       215\n",
      "                 death       0.81      0.19      0.31       307\n",
      "             other_aid       0.65      0.04      0.08       871\n",
      "infrastructure_related       0.50      0.00      0.00       435\n",
      "             transport       0.78      0.11      0.20       286\n",
      "             buildings       0.76      0.12      0.21       329\n",
      "           electricity       0.75      0.04      0.08       134\n",
      "                 tools       0.00      0.00      0.00        40\n",
      "             hospitals       0.00      0.00      0.00        70\n",
      "                 shops       0.00      0.00      0.00        31\n",
      "           aid_centers       0.00      0.00      0.00        77\n",
      "  other_infrastructure       0.00      0.00      0.00       288\n",
      "       weather_related       0.85      0.72      0.78      1858\n",
      "                floods       0.92      0.48      0.63       546\n",
      "                 storm       0.76      0.55      0.64       586\n",
      "                  fire       0.00      0.00      0.00        62\n",
      "            earthquake       0.90      0.78      0.83       663\n",
      "                  cold       0.88      0.12      0.20       130\n",
      "         other_weather       0.78      0.02      0.04       366\n",
      "         direct_report       0.80      0.37      0.51      1263\n",
      "\n",
      "             micro avg       0.83      0.54      0.65     20949\n",
      "             macro avg       0.57      0.21      0.26     20949\n",
      "          weighted avg       0.78      0.54      0.58     20949\n",
      "           samples avg       0.68      0.49      0.52     20949\n",
      "\n"
     ]
    },
    {
     "name": "stderr",
     "output_type": "stream",
     "text": [
      "c:\\projects\\udacity\\distasterresponsepipeline\\venv\\lib\\site-packages\\sklearn\\metrics\\_classification.py:1248: UndefinedMetricWarning: Precision and F-score are ill-defined and being set to 0.0 in labels with no predicted samples. Use `zero_division` parameter to control this behavior.\n",
      "  _warn_prf(average, modifier, msg_start, len(result))\n",
      "c:\\projects\\udacity\\distasterresponsepipeline\\venv\\lib\\site-packages\\sklearn\\metrics\\_classification.py:1248: UndefinedMetricWarning: Recall and F-score are ill-defined and being set to 0.0 in labels with no true samples. Use `zero_division` parameter to control this behavior.\n",
      "  _warn_prf(average, modifier, msg_start, len(result))\n",
      "c:\\projects\\udacity\\distasterresponsepipeline\\venv\\lib\\site-packages\\sklearn\\metrics\\_classification.py:1248: UndefinedMetricWarning: Precision and F-score are ill-defined and being set to 0.0 in samples with no predicted labels. Use `zero_division` parameter to control this behavior.\n",
      "  _warn_prf(average, modifier, msg_start, len(result))\n",
      "c:\\projects\\udacity\\distasterresponsepipeline\\venv\\lib\\site-packages\\sklearn\\metrics\\_classification.py:1248: UndefinedMetricWarning: Recall and F-score are ill-defined and being set to 0.0 in samples with no true labels. Use `zero_division` parameter to control this behavior.\n",
      "  _warn_prf(average, modifier, msg_start, len(result))\n"
     ]
    }
   ],
   "source": [
    "# Model Evaluation metrics\n",
    "print(classification_report(y_test, y_pred, target_names=y_test.columns))"
   ]
  },
  {
   "cell_type": "markdown",
   "metadata": {},
   "source": [
    "### 6. Improve your model\n",
    "Use grid search to find better parameters. "
   ]
  },
  {
   "cell_type": "code",
   "execution_count": 17,
   "metadata": {
    "pycharm": {
     "is_executing": true
    }
   },
   "outputs": [
    {
     "data": {
      "text/plain": [
       "{'memory': None,\n",
       " 'steps': [('vect',\n",
       "   CountVectorizer(tokenizer=<function tokenize at 0x00000240D5645598>)),\n",
       "  ('tfidf', TfidfTransformer()),\n",
       "  ('clf', MultiOutputClassifier(estimator=RandomForestClassifier(n_jobs=-1)))],\n",
       " 'verbose': False,\n",
       " 'vect': CountVectorizer(tokenizer=<function tokenize at 0x00000240D5645598>),\n",
       " 'tfidf': TfidfTransformer(),\n",
       " 'clf': MultiOutputClassifier(estimator=RandomForestClassifier(n_jobs=-1)),\n",
       " 'vect__analyzer': 'word',\n",
       " 'vect__binary': False,\n",
       " 'vect__decode_error': 'strict',\n",
       " 'vect__dtype': numpy.int64,\n",
       " 'vect__encoding': 'utf-8',\n",
       " 'vect__input': 'content',\n",
       " 'vect__lowercase': True,\n",
       " 'vect__max_df': 1.0,\n",
       " 'vect__max_features': None,\n",
       " 'vect__min_df': 1,\n",
       " 'vect__ngram_range': (1, 1),\n",
       " 'vect__preprocessor': None,\n",
       " 'vect__stop_words': None,\n",
       " 'vect__strip_accents': None,\n",
       " 'vect__token_pattern': '(?u)\\\\b\\\\w\\\\w+\\\\b',\n",
       " 'vect__tokenizer': <function __main__.tokenize(text)>,\n",
       " 'vect__vocabulary': None,\n",
       " 'tfidf__norm': 'l2',\n",
       " 'tfidf__smooth_idf': True,\n",
       " 'tfidf__sublinear_tf': False,\n",
       " 'tfidf__use_idf': True,\n",
       " 'clf__estimator__bootstrap': True,\n",
       " 'clf__estimator__ccp_alpha': 0.0,\n",
       " 'clf__estimator__class_weight': None,\n",
       " 'clf__estimator__criterion': 'gini',\n",
       " 'clf__estimator__max_depth': None,\n",
       " 'clf__estimator__max_features': 'auto',\n",
       " 'clf__estimator__max_leaf_nodes': None,\n",
       " 'clf__estimator__max_samples': None,\n",
       " 'clf__estimator__min_impurity_decrease': 0.0,\n",
       " 'clf__estimator__min_impurity_split': None,\n",
       " 'clf__estimator__min_samples_leaf': 1,\n",
       " 'clf__estimator__min_samples_split': 2,\n",
       " 'clf__estimator__min_weight_fraction_leaf': 0.0,\n",
       " 'clf__estimator__n_estimators': 100,\n",
       " 'clf__estimator__n_jobs': -1,\n",
       " 'clf__estimator__oob_score': False,\n",
       " 'clf__estimator__random_state': None,\n",
       " 'clf__estimator__verbose': 0,\n",
       " 'clf__estimator__warm_start': False,\n",
       " 'clf__estimator': RandomForestClassifier(n_jobs=-1),\n",
       " 'clf__n_jobs': None}"
      ]
     },
     "execution_count": 17,
     "metadata": {},
     "output_type": "execute_result"
    }
   ],
   "source": [
    "pipeline.get_params()"
   ]
  },
  {
   "cell_type": "code",
   "execution_count": 18,
   "metadata": {
    "pycharm": {
     "is_executing": true
    }
   },
   "outputs": [
    {
     "name": "stdout",
     "output_type": "stream",
     "text": [
      "dict_keys(['memory', 'steps', 'verbose', 'vect', 'tfidf', 'clf', 'vect__analyzer', 'vect__binary', 'vect__decode_error', 'vect__dtype', 'vect__encoding', 'vect__input', 'vect__lowercase', 'vect__max_df', 'vect__max_features', 'vect__min_df', 'vect__ngram_range', 'vect__preprocessor', 'vect__stop_words', 'vect__strip_accents', 'vect__token_pattern', 'vect__tokenizer', 'vect__vocabulary', 'tfidf__norm', 'tfidf__smooth_idf', 'tfidf__sublinear_tf', 'tfidf__use_idf', 'clf__estimator__bootstrap', 'clf__estimator__ccp_alpha', 'clf__estimator__class_weight', 'clf__estimator__criterion', 'clf__estimator__max_depth', 'clf__estimator__max_features', 'clf__estimator__max_leaf_nodes', 'clf__estimator__max_samples', 'clf__estimator__min_impurity_decrease', 'clf__estimator__min_impurity_split', 'clf__estimator__min_samples_leaf', 'clf__estimator__min_samples_split', 'clf__estimator__min_weight_fraction_leaf', 'clf__estimator__n_estimators', 'clf__estimator__n_jobs', 'clf__estimator__oob_score', 'clf__estimator__random_state', 'clf__estimator__verbose', 'clf__estimator__warm_start', 'clf__estimator', 'clf__n_jobs'])\n"
     ]
    }
   ],
   "source": [
    "print(pipeline.get_params().keys())"
   ]
  },
  {
   "cell_type": "code",
   "execution_count": 21,
   "metadata": {
    "pycharm": {
     "is_executing": true
    }
   },
   "outputs": [
    {
     "name": "stdout",
     "output_type": "stream",
     "text": [
      "Fitting 3 folds for each of 24 candidates, totalling 72 fits\n",
      "[CV 1/3] END clf__estimator__n_estimators=50, tfidf__sublinear_tf=True, vect__max_df=0.7;, score=0.264 total time=  48.0s\n",
      "[CV 2/3] END clf__estimator__n_estimators=50, tfidf__sublinear_tf=True, vect__max_df=0.7;, score=0.263 total time=  47.3s\n",
      "[CV 3/3] END clf__estimator__n_estimators=50, tfidf__sublinear_tf=True, vect__max_df=0.7;, score=0.262 total time=  43.9s\n",
      "[CV 1/3] END clf__estimator__n_estimators=50, tfidf__sublinear_tf=True, vect__max_df=0.8;, score=0.259 total time=  44.5s\n",
      "[CV 2/3] END clf__estimator__n_estimators=50, tfidf__sublinear_tf=True, vect__max_df=0.8;, score=0.266 total time=  43.0s\n",
      "[CV 3/3] END clf__estimator__n_estimators=50, tfidf__sublinear_tf=True, vect__max_df=0.8;, score=0.260 total time=  43.3s\n",
      "[CV 1/3] END clf__estimator__n_estimators=50, tfidf__sublinear_tf=True, vect__max_df=0.9;, score=0.257 total time=  43.7s\n",
      "[CV 2/3] END clf__estimator__n_estimators=50, tfidf__sublinear_tf=True, vect__max_df=0.9;, score=0.260 total time=  43.0s\n",
      "[CV 3/3] END clf__estimator__n_estimators=50, tfidf__sublinear_tf=True, vect__max_df=0.9;, score=0.260 total time=  43.3s\n",
      "[CV 1/3] END clf__estimator__n_estimators=50, tfidf__sublinear_tf=True, vect__max_df=1.0;, score=0.260 total time=  44.2s\n",
      "[CV 2/3] END clf__estimator__n_estimators=50, tfidf__sublinear_tf=True, vect__max_df=1.0;, score=0.260 total time=  43.5s\n",
      "[CV 3/3] END clf__estimator__n_estimators=50, tfidf__sublinear_tf=True, vect__max_df=1.0;, score=0.269 total time=  43.2s\n",
      "[CV 1/3] END clf__estimator__n_estimators=50, tfidf__sublinear_tf=False, vect__max_df=0.7;, score=0.264 total time=  43.9s\n",
      "[CV 2/3] END clf__estimator__n_estimators=50, tfidf__sublinear_tf=False, vect__max_df=0.7;, score=0.261 total time=  42.9s\n",
      "[CV 3/3] END clf__estimator__n_estimators=50, tfidf__sublinear_tf=False, vect__max_df=0.7;, score=0.260 total time=  43.3s\n",
      "[CV 1/3] END clf__estimator__n_estimators=50, tfidf__sublinear_tf=False, vect__max_df=0.8;, score=0.264 total time=  43.7s\n",
      "[CV 2/3] END clf__estimator__n_estimators=50, tfidf__sublinear_tf=False, vect__max_df=0.8;, score=0.259 total time=  43.1s\n",
      "[CV 3/3] END clf__estimator__n_estimators=50, tfidf__sublinear_tf=False, vect__max_df=0.8;, score=0.262 total time=  43.3s\n",
      "[CV 1/3] END clf__estimator__n_estimators=50, tfidf__sublinear_tf=False, vect__max_df=0.9;, score=0.254 total time=  43.9s\n",
      "[CV 2/3] END clf__estimator__n_estimators=50, tfidf__sublinear_tf=False, vect__max_df=0.9;, score=0.259 total time=  42.9s\n",
      "[CV 3/3] END clf__estimator__n_estimators=50, tfidf__sublinear_tf=False, vect__max_df=0.9;, score=0.267 total time=  43.3s\n",
      "[CV 1/3] END clf__estimator__n_estimators=50, tfidf__sublinear_tf=False, vect__max_df=1.0;, score=0.260 total time=  44.0s\n",
      "[CV 2/3] END clf__estimator__n_estimators=50, tfidf__sublinear_tf=False, vect__max_df=1.0;, score=0.255 total time=  42.9s\n",
      "[CV 3/3] END clf__estimator__n_estimators=50, tfidf__sublinear_tf=False, vect__max_df=1.0;, score=0.264 total time=  43.4s\n",
      "[CV 1/3] END clf__estimator__n_estimators=75, tfidf__sublinear_tf=True, vect__max_df=0.7;, score=0.260 total time= 1.0min\n",
      "[CV 2/3] END clf__estimator__n_estimators=75, tfidf__sublinear_tf=True, vect__max_df=0.7;, score=0.265 total time=  56.5s\n",
      "[CV 3/3] END clf__estimator__n_estimators=75, tfidf__sublinear_tf=True, vect__max_df=0.7;, score=0.269 total time=  57.1s\n",
      "[CV 1/3] END clf__estimator__n_estimators=75, tfidf__sublinear_tf=True, vect__max_df=0.8;, score=0.260 total time=  58.1s\n",
      "[CV 2/3] END clf__estimator__n_estimators=75, tfidf__sublinear_tf=True, vect__max_df=0.8;, score=0.262 total time=  56.5s\n",
      "[CV 3/3] END clf__estimator__n_estimators=75, tfidf__sublinear_tf=True, vect__max_df=0.8;, score=0.267 total time=  57.1s\n",
      "[CV 1/3] END clf__estimator__n_estimators=75, tfidf__sublinear_tf=True, vect__max_df=0.9;, score=0.259 total time=  58.0s\n",
      "[CV 2/3] END clf__estimator__n_estimators=75, tfidf__sublinear_tf=True, vect__max_df=0.9;, score=0.264 total time=  56.4s\n",
      "[CV 3/3] END clf__estimator__n_estimators=75, tfidf__sublinear_tf=True, vect__max_df=0.9;, score=0.265 total time=  57.5s\n",
      "[CV 1/3] END clf__estimator__n_estimators=75, tfidf__sublinear_tf=True, vect__max_df=1.0;, score=0.258 total time=  58.0s\n",
      "[CV 2/3] END clf__estimator__n_estimators=75, tfidf__sublinear_tf=True, vect__max_df=1.0;, score=0.263 total time=  57.0s\n",
      "[CV 3/3] END clf__estimator__n_estimators=75, tfidf__sublinear_tf=True, vect__max_df=1.0;, score=0.264 total time=  57.2s\n",
      "[CV 1/3] END clf__estimator__n_estimators=75, tfidf__sublinear_tf=False, vect__max_df=0.7;, score=0.254 total time=  58.0s\n",
      "[CV 2/3] END clf__estimator__n_estimators=75, tfidf__sublinear_tf=False, vect__max_df=0.7;, score=0.263 total time=  56.6s\n",
      "[CV 3/3] END clf__estimator__n_estimators=75, tfidf__sublinear_tf=False, vect__max_df=0.7;, score=0.266 total time=  57.0s\n",
      "[CV 1/3] END clf__estimator__n_estimators=75, tfidf__sublinear_tf=False, vect__max_df=0.8;, score=0.264 total time=  58.7s\n",
      "[CV 2/3] END clf__estimator__n_estimators=75, tfidf__sublinear_tf=False, vect__max_df=0.8;, score=0.260 total time=  56.6s\n",
      "[CV 3/3] END clf__estimator__n_estimators=75, tfidf__sublinear_tf=False, vect__max_df=0.8;, score=0.264 total time=  57.3s\n",
      "[CV 1/3] END clf__estimator__n_estimators=75, tfidf__sublinear_tf=False, vect__max_df=0.9;, score=0.260 total time=  58.4s\n",
      "[CV 2/3] END clf__estimator__n_estimators=75, tfidf__sublinear_tf=False, vect__max_df=0.9;, score=0.262 total time=  56.9s\n",
      "[CV 3/3] END clf__estimator__n_estimators=75, tfidf__sublinear_tf=False, vect__max_df=0.9;, score=0.261 total time=  57.3s\n",
      "[CV 1/3] END clf__estimator__n_estimators=75, tfidf__sublinear_tf=False, vect__max_df=1.0;, score=0.255 total time=  58.5s\n",
      "[CV 2/3] END clf__estimator__n_estimators=75, tfidf__sublinear_tf=False, vect__max_df=1.0;, score=0.262 total time=  56.9s\n",
      "[CV 3/3] END clf__estimator__n_estimators=75, tfidf__sublinear_tf=False, vect__max_df=1.0;, score=0.260 total time=  57.3s\n",
      "[CV 1/3] END clf__estimator__n_estimators=100, tfidf__sublinear_tf=True, vect__max_df=0.7;, score=0.267 total time= 1.2min\n",
      "[CV 2/3] END clf__estimator__n_estimators=100, tfidf__sublinear_tf=True, vect__max_df=0.7;, score=0.268 total time= 1.2min\n",
      "[CV 3/3] END clf__estimator__n_estimators=100, tfidf__sublinear_tf=True, vect__max_df=0.7;, score=0.266 total time= 1.2min\n",
      "[CV 1/3] END clf__estimator__n_estimators=100, tfidf__sublinear_tf=True, vect__max_df=0.8;, score=0.263 total time= 1.2min\n",
      "[CV 2/3] END clf__estimator__n_estimators=100, tfidf__sublinear_tf=True, vect__max_df=0.8;, score=0.264 total time= 1.2min\n",
      "[CV 3/3] END clf__estimator__n_estimators=100, tfidf__sublinear_tf=True, vect__max_df=0.8;, score=0.268 total time= 1.2min\n",
      "[CV 1/3] END clf__estimator__n_estimators=100, tfidf__sublinear_tf=True, vect__max_df=0.9;, score=0.265 total time= 1.2min\n",
      "[CV 2/3] END clf__estimator__n_estimators=100, tfidf__sublinear_tf=True, vect__max_df=0.9;, score=0.257 total time= 1.2min\n",
      "[CV 3/3] END clf__estimator__n_estimators=100, tfidf__sublinear_tf=True, vect__max_df=0.9;, score=0.267 total time= 1.2min\n",
      "[CV 1/3] END clf__estimator__n_estimators=100, tfidf__sublinear_tf=True, vect__max_df=1.0;, score=0.263 total time= 1.2min\n",
      "[CV 2/3] END clf__estimator__n_estimators=100, tfidf__sublinear_tf=True, vect__max_df=1.0;, score=0.267 total time= 1.2min\n",
      "[CV 3/3] END clf__estimator__n_estimators=100, tfidf__sublinear_tf=True, vect__max_df=1.0;, score=0.264 total time= 1.2min\n",
      "[CV 1/3] END clf__estimator__n_estimators=100, tfidf__sublinear_tf=False, vect__max_df=0.7;, score=0.261 total time= 1.2min\n",
      "[CV 2/3] END clf__estimator__n_estimators=100, tfidf__sublinear_tf=False, vect__max_df=0.7;, score=0.263 total time= 1.2min\n",
      "[CV 3/3] END clf__estimator__n_estimators=100, tfidf__sublinear_tf=False, vect__max_df=0.7;, score=0.269 total time= 1.2min\n",
      "[CV 1/3] END clf__estimator__n_estimators=100, tfidf__sublinear_tf=False, vect__max_df=0.8;, score=0.263 total time= 1.2min\n",
      "[CV 2/3] END clf__estimator__n_estimators=100, tfidf__sublinear_tf=False, vect__max_df=0.8;, score=0.260 total time= 1.2min\n",
      "[CV 3/3] END clf__estimator__n_estimators=100, tfidf__sublinear_tf=False, vect__max_df=0.8;, score=0.267 total time= 1.2min\n",
      "[CV 1/3] END clf__estimator__n_estimators=100, tfidf__sublinear_tf=False, vect__max_df=0.9;, score=0.264 total time= 1.2min\n"
     ]
    },
    {
     "name": "stdout",
     "output_type": "stream",
     "text": [
      "[CV 2/3] END clf__estimator__n_estimators=100, tfidf__sublinear_tf=False, vect__max_df=0.9;, score=0.263 total time= 1.2min\n",
      "[CV 3/3] END clf__estimator__n_estimators=100, tfidf__sublinear_tf=False, vect__max_df=0.9;, score=0.267 total time= 1.2min\n",
      "[CV 1/3] END clf__estimator__n_estimators=100, tfidf__sublinear_tf=False, vect__max_df=1.0;, score=0.262 total time= 1.2min\n",
      "[CV 2/3] END clf__estimator__n_estimators=100, tfidf__sublinear_tf=False, vect__max_df=1.0;, score=0.263 total time= 1.2min\n",
      "[CV 3/3] END clf__estimator__n_estimators=100, tfidf__sublinear_tf=False, vect__max_df=1.0;, score=0.267 total time= 1.2min\n"
     ]
    },
    {
     "data": {
      "text/plain": [
       "GridSearchCV(cv=3,\n",
       "             estimator=Pipeline(steps=[('vect',\n",
       "                                        CountVectorizer(tokenizer=<function tokenize at 0x00000240D5645598>)),\n",
       "                                       ('tfidf', TfidfTransformer()),\n",
       "                                       ('clf',\n",
       "                                        MultiOutputClassifier(estimator=RandomForestClassifier(n_jobs=-1)))]),\n",
       "             param_grid={'clf__estimator__n_estimators': [50, 75, 100],\n",
       "                         'tfidf__sublinear_tf': [True, False],\n",
       "                         'vect__max_df': [0.7, 0.8, 0.9, 1.0]},\n",
       "             verbose=3)"
      ]
     },
     "execution_count": 21,
     "metadata": {},
     "output_type": "execute_result"
    }
   ],
   "source": [
    "pipeline = Pipeline([\n",
    "    ('vect', CountVectorizer(tokenizer=tokenize)),\n",
    "    ('tfidf', TfidfTransformer()),\n",
    "    ('clf', MultiOutputClassifier(RandomForestClassifier(n_jobs=-1)))\n",
    "])\n",
    "\n",
    "parameters = {\n",
    "    'vect__max_df': [0.7, 0.8, 0.9, 1.0],\n",
    "    'tfidf__sublinear_tf': [True, False],\n",
    "    'clf__estimator__n_estimators': [50, 75, 100]\n",
    "}\n",
    "\n",
    "cv = GridSearchCV(pipeline, param_grid=parameters, cv=3, verbose=3)\n",
    "\n",
    "cv.fit(X_train, y_train)"
   ]
  },
  {
   "cell_type": "code",
   "execution_count": 22,
   "metadata": {
    "pycharm": {
     "is_executing": true
    }
   },
   "outputs": [],
   "source": [
    "y_pred_cv = cv.predict(X_test)"
   ]
  },
  {
   "cell_type": "code",
   "execution_count": 23,
   "metadata": {
    "pycharm": {
     "is_executing": true
    }
   },
   "outputs": [
    {
     "data": {
      "text/plain": [
       "{'clf__estimator__n_estimators': 100,\n",
       " 'tfidf__sublinear_tf': True,\n",
       " 'vect__max_df': 0.7}"
      ]
     },
     "execution_count": 23,
     "metadata": {},
     "output_type": "execute_result"
    }
   ],
   "source": [
    "cv.best_params_"
   ]
  },
  {
   "cell_type": "markdown",
   "metadata": {},
   "source": [
    "### 7. Test your model\n",
    "Show the accuracy, precision, and recall of the tuned model.  \n",
    "\n",
    "Since this project focuses on code quality, process, and  pipelines, there is no minimum performance metric needed to pass. However, make sure to fine tune your models for accuracy, precision and recall to make your project stand out - especially for your portfolio!"
   ]
  },
  {
   "cell_type": "code",
   "execution_count": 24,
   "metadata": {
    "pycharm": {
     "is_executing": true
    }
   },
   "outputs": [
    {
     "name": "stdout",
     "output_type": "stream",
     "text": [
      "                        precision    recall  f1-score   support\n",
      "\n",
      "               related       0.84      0.95      0.89      5043\n",
      "               request       0.84      0.51      0.64      1088\n",
      "                 offer       0.00      0.00      0.00        29\n",
      "           aid_related       0.76      0.70      0.73      2762\n",
      "          medical_help       0.71      0.09      0.15       512\n",
      "      medical_products       0.77      0.10      0.17       335\n",
      "     search_and_rescue       1.00      0.06      0.11       171\n",
      "              security       0.50      0.01      0.01       134\n",
      "              military       0.74      0.06      0.11       237\n",
      "           child_alone       0.00      0.00      0.00         0\n",
      "                 water       0.85      0.36      0.51       423\n",
      "                  food       0.85      0.62      0.72       744\n",
      "               shelter       0.84      0.35      0.49       593\n",
      "              clothing       0.75      0.08      0.15       108\n",
      "                 money       0.83      0.03      0.07       143\n",
      "        missing_people       0.00      0.00      0.00        70\n",
      "              refugees       0.22      0.01      0.02       215\n",
      "                 death       0.87      0.18      0.30       307\n",
      "             other_aid       0.61      0.04      0.08       871\n",
      "infrastructure_related       0.33      0.00      0.00       435\n",
      "             transport       0.79      0.09      0.17       286\n",
      "             buildings       0.73      0.12      0.20       329\n",
      "           electricity       0.50      0.02      0.04       134\n",
      "                 tools       0.00      0.00      0.00        40\n",
      "             hospitals       0.00      0.00      0.00        70\n",
      "                 shops       0.00      0.00      0.00        31\n",
      "           aid_centers       0.00      0.00      0.00        77\n",
      "  other_infrastructure       1.00      0.00      0.01       288\n",
      "       weather_related       0.85      0.72      0.78      1858\n",
      "                floods       0.92      0.47      0.62       546\n",
      "                 storm       0.76      0.57      0.65       586\n",
      "                  fire       0.50      0.02      0.03        62\n",
      "            earthquake       0.90      0.79      0.84       663\n",
      "                  cold       0.88      0.11      0.19       130\n",
      "         other_weather       0.73      0.02      0.04       366\n",
      "         direct_report       0.81      0.39      0.53      1263\n",
      "\n",
      "             micro avg       0.83      0.54      0.65     20949\n",
      "             macro avg       0.60      0.21      0.26     20949\n",
      "          weighted avg       0.78      0.54      0.58     20949\n",
      "           samples avg       0.67      0.49      0.52     20949\n",
      "\n"
     ]
    },
    {
     "name": "stderr",
     "output_type": "stream",
     "text": [
      "c:\\projects\\udacity\\distasterresponsepipeline\\venv\\lib\\site-packages\\sklearn\\metrics\\_classification.py:1248: UndefinedMetricWarning: Precision and F-score are ill-defined and being set to 0.0 in labels with no predicted samples. Use `zero_division` parameter to control this behavior.\n",
      "  _warn_prf(average, modifier, msg_start, len(result))\n",
      "c:\\projects\\udacity\\distasterresponsepipeline\\venv\\lib\\site-packages\\sklearn\\metrics\\_classification.py:1248: UndefinedMetricWarning: Recall and F-score are ill-defined and being set to 0.0 in labels with no true samples. Use `zero_division` parameter to control this behavior.\n",
      "  _warn_prf(average, modifier, msg_start, len(result))\n",
      "c:\\projects\\udacity\\distasterresponsepipeline\\venv\\lib\\site-packages\\sklearn\\metrics\\_classification.py:1248: UndefinedMetricWarning: Precision and F-score are ill-defined and being set to 0.0 in samples with no predicted labels. Use `zero_division` parameter to control this behavior.\n",
      "  _warn_prf(average, modifier, msg_start, len(result))\n",
      "c:\\projects\\udacity\\distasterresponsepipeline\\venv\\lib\\site-packages\\sklearn\\metrics\\_classification.py:1248: UndefinedMetricWarning: Recall and F-score are ill-defined and being set to 0.0 in samples with no true labels. Use `zero_division` parameter to control this behavior.\n",
      "  _warn_prf(average, modifier, msg_start, len(result))\n"
     ]
    }
   ],
   "source": [
    "# CV Model Evaluation metrics\n",
    "print(classification_report(y_test, y_pred_cv, target_names=y_test.columns))"
   ]
  },
  {
   "cell_type": "markdown",
   "metadata": {},
   "source": [
    "### 8. Try improving your model further. Here are a few ideas:\n",
    "* try other machine learning algorithms\n",
    "* add other features besides the TF-IDF"
   ]
  },
  {
   "cell_type": "markdown",
   "metadata": {},
   "source": [
    "### 9. Export your model as a pickle file"
   ]
  },
  {
   "cell_type": "code",
   "execution_count": 25,
   "metadata": {
    "pycharm": {
     "is_executing": true
    }
   },
   "outputs": [],
   "source": [
    "filename = 'models/model.sav'\n",
    "\n",
    "pickle.dump(pipeline, open(filename, 'wb'))"
   ]
  },
  {
   "cell_type": "markdown",
   "metadata": {},
   "source": [
    "### 10. Use this notebook to complete `train.py`\n",
    "Use the template file attached in the Resources folder to write a script that runs the steps above to create a database and export a model based on a new dataset specified by the user."
   ]
  },
  {
   "cell_type": "code",
   "execution_count": null,
   "metadata": {
    "pycharm": {
     "is_executing": true
    }
   },
   "outputs": [],
   "source": []
  }
 ],
 "metadata": {
  "kernelspec": {
   "display_name": "Python 3",
   "language": "python",
   "name": "python3"
  },
  "language_info": {
   "codemirror_mode": {
    "name": "ipython",
    "version": 3
   },
   "file_extension": ".py",
   "mimetype": "text/x-python",
   "name": "python",
   "nbconvert_exporter": "python",
   "pygments_lexer": "ipython3",
   "version": "3.6.6"
  }
 },
 "nbformat": 4,
 "nbformat_minor": 2
}
